{
 "cells": [
  {
   "cell_type": "markdown",
   "source": [
    "import necessary modules."
   ],
   "metadata": {
    "collapsed": false,
    "pycharm": {
     "name": "#%% md\n"
    }
   }
  },
  {
   "cell_type": "code",
   "execution_count": 22,
   "id": "8010bc7d-63fc-4ee5-be8a-38f43ceea2ad",
   "metadata": {
    "pycharm": {
     "name": "#%%\n"
    }
   },
   "outputs": [],
   "source": [
    "import settings\n",
    "import importlib\n",
    "import BroadcastManager\n",
    "from RegistryManager import Registry\n",
    "import Models\n",
    "from component.cache import cache\n",
    "from sqlalchemy.ext.asyncio import AsyncSession\n",
    "from common.dbsession import getdbsession\n",
    "from sqlalchemy import select\n",
    "db=await getdbsession()"
   ]
  },
  {
   "cell_type": "markdown",
   "source": [
    "cache example:"
   ],
   "metadata": {
    "collapsed": false,
    "pycharm": {
     "name": "#%% md\n"
    }
   }
  },
  {
   "cell_type": "code",
   "execution_count": null,
   "id": "8994a137-e699-4f94-a65c-e0c3e3b39fc1",
   "metadata": {
    "pycharm": {
     "name": "#%%\n",
     "is_executing": true
    }
   },
   "outputs": [],
   "source": [
    "await cache.set(\"testflag\",1)\n",
    "await cache.get('testflag')"
   ]
  },
  {
   "cell_type": "markdown",
   "source": [
    "sqlalchemy example:"
   ],
   "metadata": {
    "collapsed": false,
    "pycharm": {
     "name": "#%% md\n"
    }
   }
  },
  {
   "cell_type": "code",
   "execution_count": 24,
   "outputs": [
    {
     "name": "stdout",
     "output_type": "stream",
     "text": [
      "2022-08-14 15:45:19,811 INFO sqlalchemy.engine.Engine SELECT user.id, user.username, user.email, user.is_banned, user.ban_enddate, user.phone, user.balance, user.password, user.gender, user.userrole, user.nickname, user.mark, user.parent_id \n",
      "FROM user\n",
      "2022-08-14 15:45:19,811 INFO sqlalchemy.engine.Engine [cached since 7.725s ago] ()\n"
     ]
    },
    {
     "data": {
      "text/plain": "[]"
     },
     "execution_count": 24,
     "metadata": {},
     "output_type": "execute_result"
    }
   ],
   "source": [
    "sql=select(Models.User)\n",
    "results=await db.execute(sql)\n",
    "results.scalars().all()"
   ],
   "metadata": {
    "collapsed": false,
    "pycharm": {
     "name": "#%%\n"
    }
   }
  },
  {
   "cell_type": "code",
   "execution_count": 34,
   "outputs": [],
   "source": [
    "from UserRole import UserRole\n",
    "\n",
    "user=Models.User(username='fengchuan',nickname='冯川',password='fengchuan',userrole=UserRole.admin.value)\n",
    "db.add(user)"
   ],
   "metadata": {
    "collapsed": false,
    "pycharm": {
     "name": "#%%\n"
    }
   }
  },
  {
   "cell_type": "code",
   "execution_count": 35,
   "outputs": [
    {
     "name": "stdout",
     "output_type": "stream",
     "text": [
      "2022-08-14 15:51:29,164 INFO sqlalchemy.engine.Engine BEGIN (implicit)\n",
      "2022-08-14 15:51:29,164 INFO sqlalchemy.engine.Engine INSERT INTO user (id, username, email, is_banned, ban_enddate, phone, password, gender, userrole, nickname, mark, parent_id) VALUES (%s, %s, %s, %s, %s, %s, %s, %s, %s, %s, %s, %s)\n",
      "2022-08-14 15:51:29,164 INFO sqlalchemy.engine.Engine [cached since 115.4s ago] (41825173363492930, 'fengchuan', None, 'normal', None, '', 'fengchuan', None, 2, '冯川', None, None)\n",
      "2022-08-14 15:51:29,164 INFO sqlalchemy.engine.Engine COMMIT\n"
     ]
    }
   ],
   "source": [
    "await db.commit()"
   ],
   "metadata": {
    "collapsed": false,
    "pycharm": {
     "name": "#%%\n"
    }
   }
  },
  {
   "cell_type": "code",
   "execution_count": null,
   "outputs": [],
   "source": [],
   "metadata": {
    "collapsed": false,
    "pycharm": {
     "name": "#%%\n"
    }
   }
  }
 ],
 "metadata": {
  "kernelspec": {
   "display_name": "Python 3 (ipykernel)",
   "language": "python",
   "name": "python3"
  },
  "language_info": {
   "codemirror_mode": {
    "name": "ipython",
    "version": 3
   },
   "file_extension": ".py",
   "mimetype": "text/x-python",
   "name": "python",
   "nbconvert_exporter": "python",
   "pygments_lexer": "ipython3",
   "version": "3.10.5"
  }
 },
 "nbformat": 4,
 "nbformat_minor": 5
}