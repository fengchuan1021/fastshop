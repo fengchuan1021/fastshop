{
 "cells": [
  {
   "cell_type": "markdown",
   "source": [
    "import necessary modules."
   ],
   "metadata": {
    "collapsed": false,
    "pycharm": {
     "name": "#%% md\n"
    }
   }
  },
  {
   "cell_type": "code",
   "execution_count": 1,
   "id": "8010bc7d-63fc-4ee5-be8a-38f43ceea2ad",
   "metadata": {
    "pycharm": {
     "name": "#%%\n"
    }
   },
   "outputs": [],
   "source": [
    "import settings\n",
    "import importlib\n",
    "import Broadcast\n",
    "from component.dbsession import getdbsession\n",
    "import Models\n",
    "from component.cache import cache\n",
    "from sqlalchemy.ext.asyncio import AsyncSession\n",
    "import Service\n",
    "from sqlalchemy import select\n",
    "db=await getdbsession()\n",
    "from sqlalchemy.orm import joinedload, contains_eager"
   ]
  },
  {
   "cell_type": "markdown",
   "source": [
    "cache example:"
   ],
   "metadata": {
    "collapsed": false,
    "pycharm": {
     "name": "#%% md\n"
    }
   }
  },
  {
   "cell_type": "code",
   "execution_count": 5,
   "outputs": [
    {
     "ename": "ArgumentError",
     "evalue": "ExecutionOption Core or ORM object expected, got None.",
     "output_type": "error",
     "traceback": [
      "\u001B[1;31m---------------------------------------------------------------------------\u001B[0m",
      "\u001B[1;31mArgumentError\u001B[0m                             Traceback (most recent call last)",
      "Input \u001B[1;32mIn [5]\u001B[0m, in \u001B[0;36m<cell line: 1>\u001B[1;34m()\u001B[0m\n\u001B[1;32m----> 1\u001B[0m sql\u001B[38;5;241m=\u001B[39m\u001B[43mselect\u001B[49m\u001B[43m(\u001B[49m\u001B[43mModels\u001B[49m\u001B[38;5;241;43m.\u001B[39;49m\u001B[43mProduct\u001B[49m\u001B[43m)\u001B[49m\u001B[38;5;241;43m.\u001B[39;49m\u001B[43moptions\u001B[49m\u001B[43m(\u001B[49m\u001B[38;5;28;43;01mNone\u001B[39;49;00m\u001B[43m)\u001B[49m\n",
      "File \u001B[1;32m<string>:2\u001B[0m, in \u001B[0;36moptions\u001B[1;34m(self, *options)\u001B[0m\n",
      "File \u001B[1;32mC:\\Python310\\lib\\site-packages\\sqlalchemy\\sql\\base.py:110\u001B[0m, in \u001B[0;36m_generative.<locals>._generative\u001B[1;34m(fn, self, *args, **kw)\u001B[0m\n\u001B[0;32m    107\u001B[0m \u001B[38;5;124;03m\"\"\"Mark a method as generative.\"\"\"\u001B[39;00m\n\u001B[0;32m    109\u001B[0m \u001B[38;5;28mself\u001B[39m \u001B[38;5;241m=\u001B[39m \u001B[38;5;28mself\u001B[39m\u001B[38;5;241m.\u001B[39m_generate()\n\u001B[1;32m--> 110\u001B[0m x \u001B[38;5;241m=\u001B[39m fn(\u001B[38;5;28mself\u001B[39m, \u001B[38;5;241m*\u001B[39margs, \u001B[38;5;241m*\u001B[39m\u001B[38;5;241m*\u001B[39mkw)\n\u001B[0;32m    111\u001B[0m \u001B[38;5;28;01massert\u001B[39;00m x \u001B[38;5;129;01mis\u001B[39;00m \u001B[38;5;28;01mNone\u001B[39;00m, \u001B[38;5;124m\"\u001B[39m\u001B[38;5;124mgenerative methods must have no return value\u001B[39m\u001B[38;5;124m\"\u001B[39m\n\u001B[0;32m    112\u001B[0m \u001B[38;5;28;01mreturn\u001B[39;00m \u001B[38;5;28mself\u001B[39m\n",
      "File \u001B[1;32mC:\\Python310\\lib\\site-packages\\sqlalchemy\\sql\\base.py:851\u001B[0m, in \u001B[0;36mExecutable.options\u001B[1;34m(self, *options)\u001B[0m\n\u001B[0;32m    821\u001B[0m \u001B[38;5;129m@_generative\u001B[39m\n\u001B[0;32m    822\u001B[0m \u001B[38;5;28;01mdef\u001B[39;00m \u001B[38;5;21moptions\u001B[39m(\u001B[38;5;28mself\u001B[39m, \u001B[38;5;241m*\u001B[39moptions):\n\u001B[0;32m    823\u001B[0m     \u001B[38;5;124;03m\"\"\"Apply options to this statement.\u001B[39;00m\n\u001B[0;32m    824\u001B[0m \n\u001B[0;32m    825\u001B[0m \u001B[38;5;124;03m    In the general sense, options are any kind of Python object\u001B[39;00m\n\u001B[1;32m   (...)\u001B[0m\n\u001B[0;32m    849\u001B[0m \n\u001B[0;32m    850\u001B[0m \u001B[38;5;124;03m    \"\"\"\u001B[39;00m\n\u001B[1;32m--> 851\u001B[0m     \u001B[38;5;28mself\u001B[39m\u001B[38;5;241m.\u001B[39m_with_options \u001B[38;5;241m+\u001B[39m\u001B[38;5;241m=\u001B[39m \u001B[38;5;28;43mtuple\u001B[39;49m\u001B[43m(\u001B[49m\n\u001B[0;32m    852\u001B[0m \u001B[43m        \u001B[49m\u001B[43mcoercions\u001B[49m\u001B[38;5;241;43m.\u001B[39;49m\u001B[43mexpect\u001B[49m\u001B[43m(\u001B[49m\u001B[43mroles\u001B[49m\u001B[38;5;241;43m.\u001B[39;49m\u001B[43mExecutableOptionRole\u001B[49m\u001B[43m,\u001B[49m\u001B[43m \u001B[49m\u001B[43mopt\u001B[49m\u001B[43m)\u001B[49m\n\u001B[0;32m    853\u001B[0m \u001B[43m        \u001B[49m\u001B[38;5;28;43;01mfor\u001B[39;49;00m\u001B[43m \u001B[49m\u001B[43mopt\u001B[49m\u001B[43m \u001B[49m\u001B[38;5;129;43;01min\u001B[39;49;00m\u001B[43m \u001B[49m\u001B[43moptions\u001B[49m\n\u001B[0;32m    854\u001B[0m \u001B[43m    \u001B[49m\u001B[43m)\u001B[49m\n",
      "File \u001B[1;32mC:\\Python310\\lib\\site-packages\\sqlalchemy\\sql\\base.py:852\u001B[0m, in \u001B[0;36m<genexpr>\u001B[1;34m(.0)\u001B[0m\n\u001B[0;32m    821\u001B[0m \u001B[38;5;129m@_generative\u001B[39m\n\u001B[0;32m    822\u001B[0m \u001B[38;5;28;01mdef\u001B[39;00m \u001B[38;5;21moptions\u001B[39m(\u001B[38;5;28mself\u001B[39m, \u001B[38;5;241m*\u001B[39moptions):\n\u001B[0;32m    823\u001B[0m     \u001B[38;5;124;03m\"\"\"Apply options to this statement.\u001B[39;00m\n\u001B[0;32m    824\u001B[0m \n\u001B[0;32m    825\u001B[0m \u001B[38;5;124;03m    In the general sense, options are any kind of Python object\u001B[39;00m\n\u001B[1;32m   (...)\u001B[0m\n\u001B[0;32m    849\u001B[0m \n\u001B[0;32m    850\u001B[0m \u001B[38;5;124;03m    \"\"\"\u001B[39;00m\n\u001B[0;32m    851\u001B[0m     \u001B[38;5;28mself\u001B[39m\u001B[38;5;241m.\u001B[39m_with_options \u001B[38;5;241m+\u001B[39m\u001B[38;5;241m=\u001B[39m \u001B[38;5;28mtuple\u001B[39m(\n\u001B[1;32m--> 852\u001B[0m         \u001B[43mcoercions\u001B[49m\u001B[38;5;241;43m.\u001B[39;49m\u001B[43mexpect\u001B[49m\u001B[43m(\u001B[49m\u001B[43mroles\u001B[49m\u001B[38;5;241;43m.\u001B[39;49m\u001B[43mExecutableOptionRole\u001B[49m\u001B[43m,\u001B[49m\u001B[43m \u001B[49m\u001B[43mopt\u001B[49m\u001B[43m)\u001B[49m\n\u001B[0;32m    853\u001B[0m         \u001B[38;5;28;01mfor\u001B[39;00m opt \u001B[38;5;129;01min\u001B[39;00m options\n\u001B[0;32m    854\u001B[0m     )\n",
      "File \u001B[1;32mC:\\Python310\\lib\\site-packages\\sqlalchemy\\sql\\coercions.py:212\u001B[0m, in \u001B[0;36mexpect\u001B[1;34m(role, element, apply_propagate_attrs, argname, post_inspect, **kw)\u001B[0m\n\u001B[0;32m    210\u001B[0m     \u001B[38;5;28;01mreturn\u001B[39;00m resolved\n\u001B[0;32m    211\u001B[0m \u001B[38;5;28;01melse\u001B[39;00m:\n\u001B[1;32m--> 212\u001B[0m     \u001B[38;5;28;01mreturn\u001B[39;00m impl\u001B[38;5;241m.\u001B[39m_implicit_coercions(\n\u001B[0;32m    213\u001B[0m         original_element, resolved, argname\u001B[38;5;241m=\u001B[39margname, \u001B[38;5;241m*\u001B[39m\u001B[38;5;241m*\u001B[39mkw\n\u001B[0;32m    214\u001B[0m     )\n",
      "File \u001B[1;32mC:\\Python310\\lib\\site-packages\\sqlalchemy\\sql\\coercions.py:471\u001B[0m, in \u001B[0;36mExecutableOptionImpl._implicit_coercions\u001B[1;34m(self, original_element, resolved, argname, **kw)\u001B[0m\n\u001B[0;32m    469\u001B[0m     \u001B[38;5;28;01mreturn\u001B[39;00m original_element\n\u001B[0;32m    470\u001B[0m \u001B[38;5;28;01melse\u001B[39;00m:\n\u001B[1;32m--> 471\u001B[0m     \u001B[38;5;28;43mself\u001B[39;49m\u001B[38;5;241;43m.\u001B[39;49m\u001B[43m_raise_for_expected\u001B[49m\u001B[43m(\u001B[49m\u001B[43moriginal_element\u001B[49m\u001B[43m,\u001B[49m\u001B[43m \u001B[49m\u001B[43margname\u001B[49m\u001B[43m,\u001B[49m\u001B[43m \u001B[49m\u001B[43mresolved\u001B[49m\u001B[43m)\u001B[49m\n",
      "File \u001B[1;32mC:\\Python310\\lib\\site-packages\\sqlalchemy\\sql\\coercions.py:283\u001B[0m, in \u001B[0;36mRoleImpl._raise_for_expected\u001B[1;34m(self, element, argname, resolved, advice, code, err)\u001B[0m\n\u001B[0;32m    280\u001B[0m \u001B[38;5;28;01mif\u001B[39;00m advice:\n\u001B[0;32m    281\u001B[0m     msg \u001B[38;5;241m+\u001B[39m\u001B[38;5;241m=\u001B[39m \u001B[38;5;124m\"\u001B[39m\u001B[38;5;124m \u001B[39m\u001B[38;5;124m\"\u001B[39m \u001B[38;5;241m+\u001B[39m advice\n\u001B[1;32m--> 283\u001B[0m \u001B[43mutil\u001B[49m\u001B[38;5;241;43m.\u001B[39;49m\u001B[43mraise_\u001B[49m\u001B[43m(\u001B[49m\u001B[43mexc\u001B[49m\u001B[38;5;241;43m.\u001B[39;49m\u001B[43mArgumentError\u001B[49m\u001B[43m(\u001B[49m\u001B[43mmsg\u001B[49m\u001B[43m,\u001B[49m\u001B[43m \u001B[49m\u001B[43mcode\u001B[49m\u001B[38;5;241;43m=\u001B[39;49m\u001B[43mcode\u001B[49m\u001B[43m)\u001B[49m\u001B[43m,\u001B[49m\u001B[43m \u001B[49m\u001B[43mreplace_context\u001B[49m\u001B[38;5;241;43m=\u001B[39;49m\u001B[43merr\u001B[49m\u001B[43m)\u001B[49m\n",
      "File \u001B[1;32mC:\\Python310\\lib\\site-packages\\sqlalchemy\\util\\compat.py:208\u001B[0m, in \u001B[0;36mraise_\u001B[1;34m(***failed resolving arguments***)\u001B[0m\n\u001B[0;32m    205\u001B[0m     exception\u001B[38;5;241m.\u001B[39m__cause__ \u001B[38;5;241m=\u001B[39m replace_context\n\u001B[0;32m    207\u001B[0m \u001B[38;5;28;01mtry\u001B[39;00m:\n\u001B[1;32m--> 208\u001B[0m     \u001B[38;5;28;01mraise\u001B[39;00m exception\n\u001B[0;32m    209\u001B[0m \u001B[38;5;28;01mfinally\u001B[39;00m:\n\u001B[0;32m    210\u001B[0m     \u001B[38;5;66;03m# credit to\u001B[39;00m\n\u001B[0;32m    211\u001B[0m     \u001B[38;5;66;03m# https://cosmicpercolator.com/2016/01/13/exception-leaks-in-python-2-and-3/\u001B[39;00m\n\u001B[0;32m    212\u001B[0m     \u001B[38;5;66;03m# as the __traceback__ object creates a cycle\u001B[39;00m\n\u001B[0;32m    213\u001B[0m     \u001B[38;5;28;01mdel\u001B[39;00m exception, replace_context, from_, with_traceback\n",
      "\u001B[1;31mArgumentError\u001B[0m: ExecutionOption Core or ORM object expected, got None."
     ]
    }
   ],
   "source": [
    "sql=select(Models.Product).options(None)\n"
   ],
   "metadata": {
    "collapsed": false,
    "pycharm": {
     "name": "#%%\n"
    }
   }
  },
  {
   "cell_type": "code",
   "execution_count": 18,
   "outputs": [
    {
     "name": "stdout",
     "output_type": "stream",
     "text": [
      "2022-10-06 17:22:52,751 INFO sqlalchemy.engine.Engine SELECT category.category_id, category.category_name, category.parent_id, category.parent_name, category.category_order, category.shop_id, category.description, category.category_image, category.created_at, category.updated_at, category_1.category_id AS category_id_1, category_1.category_name AS category_name_1, category_1.parent_id AS parent_id_1, category_1.parent_name AS parent_name_1, category_1.category_order AS category_order_1, category_1.shop_id AS shop_id_1, category_1.description AS description_1, category_1.category_image AS category_image_1, category_1.created_at AS created_at_1, category_1.updated_at AS updated_at_1 \n",
      "FROM category LEFT OUTER JOIN category AS category_1 ON category.parent_id = category_1.category_id \n",
      "WHERE category.category_id = %s\n",
      "2022-10-06 17:22:52,752 INFO sqlalchemy.engine.Engine [cached since 147.5s ago] (80269949834101826,)\n"
     ]
    }
   ],
   "source": [
    "result=await db.execute(sql)\n",
    "model=result.scalar_one_or_none()"
   ],
   "metadata": {
    "collapsed": false,
    "pycharm": {
     "name": "#%%\n"
    }
   }
  },
  {
   "cell_type": "code",
   "execution_count": 24,
   "outputs": [
    {
     "data": {
      "text/plain": "80270182584422466"
     },
     "execution_count": 24,
     "metadata": {},
     "output_type": "execute_result"
    }
   ],
   "source": [
    "model.children[0].id"
   ],
   "metadata": {
    "collapsed": false,
    "pycharm": {
     "name": "#%%\n"
    }
   }
  },
  {
   "cell_type": "code",
   "execution_count": 20,
   "outputs": [],
   "source": [
    "model.parent"
   ],
   "metadata": {
    "collapsed": false,
    "pycharm": {
     "name": "#%%\n"
    }
   }
  },
  {
   "cell_type": "code",
   "execution_count": 21,
   "outputs": [],
   "source": [
    "model.parent"
   ],
   "metadata": {
    "collapsed": false,
    "pycharm": {
     "name": "#%%\n"
    }
   }
  },
  {
   "cell_type": "code",
   "execution_count": 22,
   "outputs": [
    {
     "data": {
      "text/plain": "[<Models.product.Category.Category at 0x1a0f211cdc0>]"
     },
     "execution_count": 22,
     "metadata": {},
     "output_type": "execute_result"
    }
   ],
   "source": [
    "model.children"
   ],
   "metadata": {
    "collapsed": false,
    "pycharm": {
     "name": "#%%\n"
    }
   }
  },
  {
   "cell_type": "code",
   "execution_count": 6,
   "outputs": [],
   "source": [
    "import Models\n",
    "import Service"
   ],
   "metadata": {
    "collapsed": false,
    "pycharm": {
     "name": "#%%\n"
    }
   }
  },
  {
   "cell_type": "code",
   "execution_count": 7,
   "outputs": [
    {
     "data": {
      "text/plain": "False"
     },
     "execution_count": 7,
     "metadata": {},
     "output_type": "execute_result"
    }
   ],
   "source": [
    "from sqlalchemy.orm import DeclarativeMeta\n",
    "\n",
    "isinstance(Service.CategoryService,DeclarativeMeta)"
   ],
   "metadata": {
    "collapsed": false,
    "pycharm": {
     "name": "#%%\n"
    }
   }
  },
  {
   "cell_type": "code",
   "execution_count": null,
   "outputs": [],
   "source": [],
   "metadata": {
    "collapsed": false,
    "pycharm": {
     "name": "#%%\n"
    }
   }
  }
 ],
 "metadata": {
  "kernelspec": {
   "display_name": "Python 3 (ipykernel)",
   "language": "python",
   "name": "python3"
  },
  "language_info": {
   "codemirror_mode": {
    "name": "ipython",
    "version": 3
   },
   "file_extension": ".py",
   "mimetype": "text/x-python",
   "name": "python",
   "nbconvert_exporter": "python",
   "pygments_lexer": "ipython3",
   "version": "3.10.5"
  }
 },
 "nbformat": 4,
 "nbformat_minor": 5
}