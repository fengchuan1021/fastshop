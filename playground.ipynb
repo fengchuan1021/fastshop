{
 "cells": [
  {
   "cell_type": "markdown",
   "source": [
    "import necessary modules."
   ],
   "metadata": {
    "collapsed": false,
    "pycharm": {
     "name": "#%% md\n"
    }
   }
  },
  {
   "cell_type": "code",
   "execution_count": 1,
   "id": "8010bc7d-63fc-4ee5-be8a-38f43ceea2ad",
   "metadata": {
    "pycharm": {
     "name": "#%%\n"
    }
   },
   "outputs": [],
   "source": [
    "import settings\n",
    "import importlib\n",
    "import Broadcast\n",
    "from common.dbsession import getdbsession\n",
    "import Models\n",
    "from component.cache import cache\n",
    "from sqlalchemy.ext.asyncio import AsyncSession\n",
    "\n",
    "from sqlalchemy import select\n",
    "db=await getdbsession()"
   ]
  },
  {
   "cell_type": "markdown",
   "source": [
    "cache example:"
   ],
   "metadata": {
    "collapsed": false,
    "pycharm": {
     "name": "#%% md\n"
    }
   }
  },
  {
   "cell_type": "code",
   "execution_count": 2,
   "id": "8994a137-e699-4f94-a65c-e0c3e3b39fc1",
   "metadata": {
    "pycharm": {
     "name": "#%%\n"
    }
   },
   "outputs": [
    {
     "name": "stdout",
     "output_type": "stream",
     "text": [
      "SELECT product.\"productName_en\", product.\"productDescription_en\", product.brand_en, product.id, product.price, product.created_at, product.updated_at \n",
      "FROM product \n",
      "WHERE product.id = :id_1\n",
      "read\n",
      "2022-09-17 12:55:47,254 INFO sqlalchemy.engine.Engine SELECT DATABASE()\n",
      "2022-09-17 12:55:47,255 INFO sqlalchemy.engine.Engine [raw sql] ()\n",
      "2022-09-17 12:55:47,258 INFO sqlalchemy.engine.Engine SELECT @@sql_mode\n",
      "2022-09-17 12:55:47,258 INFO sqlalchemy.engine.Engine [raw sql] ()\n",
      "2022-09-17 12:55:47,260 INFO sqlalchemy.engine.Engine SELECT @@lower_case_table_names\n",
      "2022-09-17 12:55:47,260 INFO sqlalchemy.engine.Engine [raw sql] ()\n",
      "2022-09-17 12:55:47,263 INFO sqlalchemy.engine.Engine BEGIN (implicit)\n",
      "2022-09-17 12:55:47,265 INFO sqlalchemy.engine.Engine SELECT product.`productName_en`, product.`productDescription_en`, product.brand_en, product.id, product.price, product.created_at, product.updated_at \n",
      "FROM product \n",
      "WHERE product.id = %s\n",
      "2022-09-17 12:55:47,266 INFO sqlalchemy.engine.Engine [generated in 0.00107s] (2,)\n",
      "type: <class 'Models.productModels.Product.Product'>\n"
     ]
    }
   ],
   "source": [
    "from Service.product.ProductService import ProductService\n",
    "ps = ProductService(Models.Product)\n",
    "result=await ps.findByPk(db,2, 'en')"
   ]
  },
  {
   "cell_type": "code",
   "execution_count": 6,
   "outputs": [],
   "source": [
    "from sqlalchemy.ext.serializer import loads, dumps\n",
    "serialized = dumps(result)\n"
   ],
   "metadata": {
    "collapsed": false,
    "pycharm": {
     "name": "#%%\n"
    }
   }
  },
  {
   "cell_type": "markdown",
   "source": [
    "sqlalchemy example:"
   ],
   "metadata": {
    "collapsed": false,
    "pycharm": {
     "name": "#%% md\n"
    }
   }
  },
  {
   "cell_type": "code",
   "execution_count": 12,
   "outputs": [
    {
     "data": {
      "text/plain": "{'productDescription_en': 'english productdescription',\n 'price': None,\n 'created_at': datetime.datetime(2022, 9, 12, 11, 40, 52),\n 'updated_at': datetime.datetime(2022, 9, 12, 15, 11, 34),\n 'brand_en': 'english brand',\n 'productName_en': 'english productname',\n 'id': 2}"
     },
     "execution_count": 12,
     "metadata": {},
     "output_type": "execute_result"
    }
   ],
   "source": [
    "result\n",
    "result.as_dict()\n"
   ],
   "metadata": {
    "collapsed": false,
    "pycharm": {
     "name": "#%%\n"
    }
   }
  },
  {
   "cell_type": "code",
   "execution_count": null,
   "outputs": [],
   "source": [
    "from UserRole import UserRole\n",
    "\n",
    "user=Models.User(username='fengchuan',nickname='冯川',password='fengchuan',userrole=UserRole.admin.value)\n",
    "db.add(user)\n",
    "await db.commit()"
   ],
   "metadata": {
    "collapsed": false,
    "pycharm": {
     "name": "#%%\n"
    }
   }
  },
  {
   "cell_type": "code",
   "execution_count": null,
   "outputs": [],
   "source": [
    "sql=select(Models.User)\n",
    "results=await db.execute(sql)\n",
    "results.scalars().all()"
   ],
   "metadata": {
    "collapsed": false,
    "pycharm": {
     "name": "#%%\n"
    }
   }
  },
  {
   "cell_type": "code",
   "execution_count": null,
   "outputs": [],
   "source": [
    "from component.cache.key_builder import default_key_builder\n",
    "from settings import UserTokenData\n",
    "token= UserTokenData(id=123)\n",
    "from pydantic import BaseModel\n",
    "class Pagenation(BaseModel):\n",
    "    pagenum:int=1\n",
    "    pagesize:int=20\n",
    "@cache\n",
    "def add(x,y):\n",
    "    print('beginadd')\n",
    "    return x+y"
   ],
   "metadata": {
    "collapsed": false,
    "pycharm": {
     "name": "#%%\n"
    }
   }
  },
  {
   "cell_type": "code",
   "execution_count": null,
   "outputs": [],
   "source": [
    "await add(2,4)"
   ],
   "metadata": {
    "collapsed": false,
    "pycharm": {
     "name": "#%%\n"
    }
   }
  },
  {
   "cell_type": "code",
   "execution_count": null,
   "outputs": [],
   "source": [
    "from inspect import Signature\n",
    "Signature(add)"
   ],
   "metadata": {
    "collapsed": false,
    "pycharm": {
     "name": "#%%\n"
    }
   }
  },
  {
   "cell_type": "code",
   "execution_count": 22,
   "outputs": [
    {
     "name": "stdout",
     "output_type": "stream",
     "text": [
      "beginadd\n"
     ]
    },
    {
     "ename": "ResponseError",
     "evalue": "invalid expire time in 'set' command",
     "output_type": "error",
     "traceback": [
      "\u001B[1;31m---------------------------------------------------------------------------\u001B[0m",
      "\u001B[1;31mResponseError\u001B[0m                             Traceback (most recent call last)",
      "Input \u001B[1;32mIn [22]\u001B[0m, in \u001B[0;36m<cell line: 1>\u001B[1;34m()\u001B[0m\n\u001B[1;32m----> 1\u001B[0m \u001B[38;5;28;01mawait\u001B[39;00m add(\u001B[38;5;241m2\u001B[39m,\u001B[38;5;241m4\u001B[39m)\n",
      "File \u001B[1;32m~\\PycharmProjects\\tmapi\\component\\cache\\__init__.py:101\u001B[0m, in \u001B[0;36mCacheClass.__call__.<locals>.decorator.<locals>.inner\u001B[1;34m(*args, **kwargs)\u001B[0m\n\u001B[0;32m     98\u001B[0m \u001B[38;5;28;01mif\u001B[39;00m(funcsig\u001B[38;5;241m.\u001B[39mreturn_annotation \u001B[38;5;129;01mis\u001B[39;00m \u001B[38;5;129;01mnot\u001B[39;00m _empty) \u001B[38;5;129;01mand\u001B[39;00m \u001B[38;5;28missubclass\u001B[39m(funcsig\u001B[38;5;241m.\u001B[39mreturn_annotation,BaseModel):\n\u001B[0;32m     99\u001B[0m     ret\u001B[38;5;241m=\u001B[39mjsonable_encoder(funcsig\u001B[38;5;241m.\u001B[39mreturn_annotation\u001B[38;5;241m.\u001B[39mparse_obj(ret))\n\u001B[1;32m--> 101\u001B[0m \u001B[38;5;28;01mawait\u001B[39;00m \u001B[38;5;28mself\u001B[39m\u001B[38;5;241m.\u001B[39mset(key,ret, expire)\n\u001B[0;32m    102\u001B[0m \u001B[38;5;28;01mreturn\u001B[39;00m ret\n",
      "File \u001B[1;32m~\\PycharmProjects\\tmapi\\component\\cache\\__init__.py:145\u001B[0m, in \u001B[0;36mCacheClass.set\u001B[1;34m(self, key, value, expire)\u001B[0m\n\u001B[0;32m    144\u001B[0m \u001B[38;5;28;01masync\u001B[39;00m \u001B[38;5;28;01mdef\u001B[39;00m \u001B[38;5;21mset\u001B[39m(\u001B[38;5;28mself\u001B[39m, key: \u001B[38;5;28mstr\u001B[39m, value: \u001B[38;5;28mstr\u001B[39m, expire: \u001B[38;5;28mint\u001B[39m \u001B[38;5;241m=\u001B[39m \u001B[38;5;28;01mNone\u001B[39;00m)\u001B[38;5;241m-\u001B[39m\u001B[38;5;241m>\u001B[39m \u001B[38;5;28mbool\u001B[39m \u001B[38;5;241m|\u001B[39m \u001B[38;5;28;01mNone\u001B[39;00m:\n\u001B[1;32m--> 145\u001B[0m     \u001B[38;5;28;01mreturn\u001B[39;00m \u001B[38;5;28;01mawait\u001B[39;00m \u001B[38;5;28mself\u001B[39m\u001B[38;5;241m.\u001B[39mredis\u001B[38;5;241m.\u001B[39mset(key, value, ex\u001B[38;5;241m=\u001B[39mexpire)\n",
      "File \u001B[1;32m~\\PycharmProjects\\tmapi\\venv\\lib\\site-packages\\redis\\asyncio\\client.py:487\u001B[0m, in \u001B[0;36mRedis.execute_command\u001B[1;34m(self, *args, **options)\u001B[0m\n\u001B[0;32m    484\u001B[0m conn \u001B[38;5;241m=\u001B[39m \u001B[38;5;28mself\u001B[39m\u001B[38;5;241m.\u001B[39mconnection \u001B[38;5;129;01mor\u001B[39;00m \u001B[38;5;28;01mawait\u001B[39;00m pool\u001B[38;5;241m.\u001B[39mget_connection(command_name, \u001B[38;5;241m*\u001B[39m\u001B[38;5;241m*\u001B[39moptions)\n\u001B[0;32m    486\u001B[0m \u001B[38;5;28;01mtry\u001B[39;00m:\n\u001B[1;32m--> 487\u001B[0m     \u001B[38;5;28;01mreturn\u001B[39;00m \u001B[38;5;28;01mawait\u001B[39;00m conn\u001B[38;5;241m.\u001B[39mretry\u001B[38;5;241m.\u001B[39mcall_with_retry(\n\u001B[0;32m    488\u001B[0m         \u001B[38;5;28;01mlambda\u001B[39;00m: \u001B[38;5;28mself\u001B[39m\u001B[38;5;241m.\u001B[39m_send_command_parse_response(\n\u001B[0;32m    489\u001B[0m             conn, command_name, \u001B[38;5;241m*\u001B[39margs, \u001B[38;5;241m*\u001B[39m\u001B[38;5;241m*\u001B[39moptions\n\u001B[0;32m    490\u001B[0m         ),\n\u001B[0;32m    491\u001B[0m         \u001B[38;5;28;01mlambda\u001B[39;00m error: \u001B[38;5;28mself\u001B[39m\u001B[38;5;241m.\u001B[39m_disconnect_raise(conn, error),\n\u001B[0;32m    492\u001B[0m     )\n\u001B[0;32m    493\u001B[0m \u001B[38;5;28;01mfinally\u001B[39;00m:\n\u001B[0;32m    494\u001B[0m     \u001B[38;5;28;01mif\u001B[39;00m \u001B[38;5;129;01mnot\u001B[39;00m \u001B[38;5;28mself\u001B[39m\u001B[38;5;241m.\u001B[39mconnection:\n",
      "File \u001B[1;32m~\\PycharmProjects\\tmapi\\venv\\lib\\site-packages\\redis\\asyncio\\retry.py:59\u001B[0m, in \u001B[0;36mRetry.call_with_retry\u001B[1;34m(self, do, fail)\u001B[0m\n\u001B[0;32m     57\u001B[0m \u001B[38;5;28;01mwhile\u001B[39;00m \u001B[38;5;28;01mTrue\u001B[39;00m:\n\u001B[0;32m     58\u001B[0m     \u001B[38;5;28;01mtry\u001B[39;00m:\n\u001B[1;32m---> 59\u001B[0m         \u001B[38;5;28;01mreturn\u001B[39;00m \u001B[38;5;28;01mawait\u001B[39;00m do()\n\u001B[0;32m     60\u001B[0m     \u001B[38;5;28;01mexcept\u001B[39;00m \u001B[38;5;28mself\u001B[39m\u001B[38;5;241m.\u001B[39m_supported_errors \u001B[38;5;28;01mas\u001B[39;00m error:\n\u001B[0;32m     61\u001B[0m         failures \u001B[38;5;241m+\u001B[39m\u001B[38;5;241m=\u001B[39m \u001B[38;5;241m1\u001B[39m\n",
      "File \u001B[1;32m~\\PycharmProjects\\tmapi\\venv\\lib\\site-packages\\redis\\asyncio\\client.py:463\u001B[0m, in \u001B[0;36mRedis._send_command_parse_response\u001B[1;34m(self, conn, command_name, *args, **options)\u001B[0m\n\u001B[0;32m    459\u001B[0m \u001B[38;5;124;03m\"\"\"\u001B[39;00m\n\u001B[0;32m    460\u001B[0m \u001B[38;5;124;03mSend a command and parse the response\u001B[39;00m\n\u001B[0;32m    461\u001B[0m \u001B[38;5;124;03m\"\"\"\u001B[39;00m\n\u001B[0;32m    462\u001B[0m \u001B[38;5;28;01mawait\u001B[39;00m conn\u001B[38;5;241m.\u001B[39msend_command(\u001B[38;5;241m*\u001B[39margs)\n\u001B[1;32m--> 463\u001B[0m \u001B[38;5;28;01mreturn\u001B[39;00m \u001B[38;5;28;01mawait\u001B[39;00m \u001B[38;5;28mself\u001B[39m\u001B[38;5;241m.\u001B[39mparse_response(conn, command_name, \u001B[38;5;241m*\u001B[39m\u001B[38;5;241m*\u001B[39moptions)\n",
      "File \u001B[1;32m~\\PycharmProjects\\tmapi\\venv\\lib\\site-packages\\redis\\asyncio\\client.py:505\u001B[0m, in \u001B[0;36mRedis.parse_response\u001B[1;34m(self, connection, command_name, **options)\u001B[0m\n\u001B[0;32m    503\u001B[0m         response \u001B[38;5;241m=\u001B[39m \u001B[38;5;28;01mawait\u001B[39;00m connection\u001B[38;5;241m.\u001B[39mread_response(disable_decoding\u001B[38;5;241m=\u001B[39m\u001B[38;5;28;01mTrue\u001B[39;00m)\n\u001B[0;32m    504\u001B[0m     \u001B[38;5;28;01melse\u001B[39;00m:\n\u001B[1;32m--> 505\u001B[0m         response \u001B[38;5;241m=\u001B[39m \u001B[38;5;28;01mawait\u001B[39;00m connection\u001B[38;5;241m.\u001B[39mread_response()\n\u001B[0;32m    506\u001B[0m \u001B[38;5;28;01mexcept\u001B[39;00m ResponseError:\n\u001B[0;32m    507\u001B[0m     \u001B[38;5;28;01mif\u001B[39;00m EMPTY_RESPONSE \u001B[38;5;129;01min\u001B[39;00m options:\n",
      "File \u001B[1;32m~\\PycharmProjects\\tmapi\\venv\\lib\\site-packages\\redis\\asyncio\\connection.py:954\u001B[0m, in \u001B[0;36mConnection.read_response\u001B[1;34m(self, disable_decoding)\u001B[0m\n\u001B[0;32m    951\u001B[0m     \u001B[38;5;28mself\u001B[39m\u001B[38;5;241m.\u001B[39mnext_health_check \u001B[38;5;241m=\u001B[39m func()\u001B[38;5;241m.\u001B[39mtime() \u001B[38;5;241m+\u001B[39m \u001B[38;5;28mself\u001B[39m\u001B[38;5;241m.\u001B[39mhealth_check_interval\n\u001B[0;32m    953\u001B[0m \u001B[38;5;28;01mif\u001B[39;00m \u001B[38;5;28misinstance\u001B[39m(response, ResponseError):\n\u001B[1;32m--> 954\u001B[0m     \u001B[38;5;28;01mraise\u001B[39;00m response \u001B[38;5;28;01mfrom\u001B[39;00m \u001B[38;5;28mNone\u001B[39m\n\u001B[0;32m    955\u001B[0m \u001B[38;5;28;01mreturn\u001B[39;00m response\n",
      "\u001B[1;31mResponseError\u001B[0m: invalid expire time in 'set' command"
     ]
    }
   ],
   "source": [
    "await add(2,4)"
   ],
   "metadata": {
    "collapsed": false,
    "pycharm": {
     "name": "#%%\n"
    }
   }
  },
  {
   "cell_type": "code",
   "execution_count": null,
   "outputs": [],
   "source": [
    "from inspect import Signature\n",
    "Signature(add)"
   ],
   "metadata": {
    "collapsed": false,
    "pycharm": {
     "name": "#%%\n"
    }
   }
  },
  {
   "cell_type": "code",
   "execution_count": null,
   "outputs": [],
   "source": [
    "db = await getdbsession()"
   ],
   "metadata": {
    "collapsed": false,
    "pycharm": {
     "name": "#%%\n"
    }
   }
  },
  {
   "cell_type": "code",
   "execution_count": null,
   "outputs": [],
   "source": [],
   "metadata": {
    "collapsed": false,
    "pycharm": {
     "name": "#%%\n"
    }
   }
  }
 ],
 "metadata": {
  "kernelspec": {
   "display_name": "Python 3 (ipykernel)",
   "language": "python",
   "name": "python3"
  },
  "language_info": {
   "codemirror_mode": {
    "name": "ipython",
    "version": 3
   },
   "file_extension": ".py",
   "mimetype": "text/x-python",
   "name": "python",
   "nbconvert_exporter": "python",
   "pygments_lexer": "ipython3",
   "version": "3.10.5"
  }
 },
 "nbformat": 4,
 "nbformat_minor": 5
}