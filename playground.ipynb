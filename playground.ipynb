{
 "cells": [
  {
   "cell_type": "markdown",
   "source": [
    "import necessary modules."
   ],
   "metadata": {
    "collapsed": false,
    "pycharm": {
     "name": "#%% md\n"
    }
   }
  },
  {
   "cell_type": "code",
   "execution_count": 18,
   "id": "8010bc7d-63fc-4ee5-be8a-38f43ceea2ad",
   "metadata": {
    "pycharm": {
     "name": "#%%\n"
    }
   },
   "outputs": [],
   "source": [
    "import settings\n",
    "import importlib\n",
    "import BroadcastManager\n",
    "from RegistryManager import Registry\n",
    "import Models\n",
    "from component.cache import cache\n",
    "from sqlalchemy.ext.asyncio import AsyncSession\n",
    "from common.dbsession import getdbsession\n",
    "from sqlalchemy import select\n",
    "db=await getdbsession()"
   ]
  },
  {
   "cell_type": "markdown",
   "source": [
    "cache example:"
   ],
   "metadata": {
    "collapsed": false,
    "pycharm": {
     "name": "#%% md\n"
    }
   }
  },
  {
   "cell_type": "code",
   "execution_count": 1,
   "id": "8994a137-e699-4f94-a65c-e0c3e3b39fc1",
   "metadata": {
    "pycharm": {
     "name": "#%%\n"
    }
   },
   "outputs": [
    {
     "ename": "NameError",
     "evalue": "name 'cache' is not defined",
     "output_type": "error",
     "traceback": [
      "\u001B[1;31m---------------------------------------------------------------------------\u001B[0m",
      "\u001B[1;31mNameError\u001B[0m                                 Traceback (most recent call last)",
      "Input \u001B[1;32mIn [1]\u001B[0m, in \u001B[0;36m<cell line: 1>\u001B[1;34m()\u001B[0m\n\u001B[1;32m----> 1\u001B[0m \u001B[38;5;28;01mawait\u001B[39;00m cache\u001B[38;5;241m.\u001B[39mset(\u001B[38;5;124m\"\u001B[39m\u001B[38;5;124mtestflag\u001B[39m\u001B[38;5;124m\"\u001B[39m,\u001B[38;5;241m1\u001B[39m)\n\u001B[0;32m      2\u001B[0m \u001B[38;5;28;01mawait\u001B[39;00m cache\u001B[38;5;241m.\u001B[39mget(\u001B[38;5;124m'\u001B[39m\u001B[38;5;124mtestflag\u001B[39m\u001B[38;5;124m'\u001B[39m)\n",
      "\u001B[1;31mNameError\u001B[0m: name 'cache' is not defined"
     ]
    }
   ],
   "source": [
    "await cache.set(\"testflag\",1)\n",
    "await cache.get('testflag')"
   ]
  },
  {
   "cell_type": "markdown",
   "source": [
    "sqlalchemy example:"
   ],
   "metadata": {
    "collapsed": false,
    "pycharm": {
     "name": "#%% md\n"
    }
   }
  },
  {
   "cell_type": "code",
   "execution_count": null,
   "outputs": [],
   "source": [
    "from UserRole import UserRole\n",
    "\n",
    "user=Models.User(username='fengchuan',nickname='冯川',password='fengchuan',userrole=UserRole.admin.value)\n",
    "db.add(user)\n",
    "await db.commit()"
   ],
   "metadata": {
    "collapsed": false,
    "pycharm": {
     "name": "#%%\n"
    }
   }
  },
  {
   "cell_type": "code",
   "execution_count": null,
   "outputs": [],
   "source": [
    "sql=select(Models.User)\n",
    "results=await db.execute(sql)\n",
    "results.scalars().all()"
   ],
   "metadata": {
    "collapsed": false,
    "pycharm": {
     "name": "#%%\n"
    }
   }
  },
  {
   "cell_type": "code",
   "execution_count": null,
   "outputs": [],
   "source": [
    "from component.cache.key_builder import default_key_builder\n",
    "from settings import UserTokenData\n",
    "token= UserTokenData(id=123)\n",
    "from pydantic import BaseModel\n",
    "class Pagenation(BaseModel):\n",
    "    pagenum:int=1\n",
    "    pagesize:int=20\n",
    "@cache\n",
    "def add(x,y):\n",
    "    print('beginadd')\n",
    "    return x+y"
   ],
   "metadata": {
    "collapsed": false,
    "pycharm": {
     "name": "#%%\n"
    }
   }
  },
  {
   "cell_type": "code",
   "execution_count": null,
   "outputs": [],
   "source": [
    "await add(2,4)"
   ],
   "metadata": {
    "collapsed": false,
    "pycharm": {
     "name": "#%%\n"
    }
   }
  },
  {
   "cell_type": "code",
   "execution_count": null,
   "outputs": [],
   "source": [
    "from inspect import Signature\n",
    "Signature(add)"
   ],
   "metadata": {
    "collapsed": false,
    "pycharm": {
     "name": "#%%\n"
    }
   }
  },
  {
   "cell_type": "code",
   "execution_count": 22,
   "outputs": [
    {
     "name": "stdout",
     "output_type": "stream",
     "text": [
      "beginadd\n"
     ]
    },
    {
     "ename": "ResponseError",
     "evalue": "invalid expire time in 'set' command",
     "output_type": "error",
     "traceback": [
      "\u001B[1;31m---------------------------------------------------------------------------\u001B[0m",
      "\u001B[1;31mResponseError\u001B[0m                             Traceback (most recent call last)",
      "Input \u001B[1;32mIn [22]\u001B[0m, in \u001B[0;36m<cell line: 1>\u001B[1;34m()\u001B[0m\n\u001B[1;32m----> 1\u001B[0m \u001B[38;5;28;01mawait\u001B[39;00m add(\u001B[38;5;241m2\u001B[39m,\u001B[38;5;241m4\u001B[39m)\n",
      "File \u001B[1;32m~\\PycharmProjects\\tmapi\\component\\cache\\__init__.py:101\u001B[0m, in \u001B[0;36mCacheClass.__call__.<locals>.decorator.<locals>.inner\u001B[1;34m(*args, **kwargs)\u001B[0m\n\u001B[0;32m     98\u001B[0m \u001B[38;5;28;01mif\u001B[39;00m(funcsig\u001B[38;5;241m.\u001B[39mreturn_annotation \u001B[38;5;129;01mis\u001B[39;00m \u001B[38;5;129;01mnot\u001B[39;00m _empty) \u001B[38;5;129;01mand\u001B[39;00m \u001B[38;5;28missubclass\u001B[39m(funcsig\u001B[38;5;241m.\u001B[39mreturn_annotation,BaseModel):\n\u001B[0;32m     99\u001B[0m     ret\u001B[38;5;241m=\u001B[39mjsonable_encoder(funcsig\u001B[38;5;241m.\u001B[39mreturn_annotation\u001B[38;5;241m.\u001B[39mparse_obj(ret))\n\u001B[1;32m--> 101\u001B[0m \u001B[38;5;28;01mawait\u001B[39;00m \u001B[38;5;28mself\u001B[39m\u001B[38;5;241m.\u001B[39mset(key,ret, expire)\n\u001B[0;32m    102\u001B[0m \u001B[38;5;28;01mreturn\u001B[39;00m ret\n",
      "File \u001B[1;32m~\\PycharmProjects\\tmapi\\component\\cache\\__init__.py:145\u001B[0m, in \u001B[0;36mCacheClass.set\u001B[1;34m(self, key, value, expire)\u001B[0m\n\u001B[0;32m    144\u001B[0m \u001B[38;5;28;01masync\u001B[39;00m \u001B[38;5;28;01mdef\u001B[39;00m \u001B[38;5;21mset\u001B[39m(\u001B[38;5;28mself\u001B[39m, key: \u001B[38;5;28mstr\u001B[39m, value: \u001B[38;5;28mstr\u001B[39m, expire: \u001B[38;5;28mint\u001B[39m \u001B[38;5;241m=\u001B[39m \u001B[38;5;28;01mNone\u001B[39;00m)\u001B[38;5;241m-\u001B[39m\u001B[38;5;241m>\u001B[39m \u001B[38;5;28mbool\u001B[39m \u001B[38;5;241m|\u001B[39m \u001B[38;5;28;01mNone\u001B[39;00m:\n\u001B[1;32m--> 145\u001B[0m     \u001B[38;5;28;01mreturn\u001B[39;00m \u001B[38;5;28;01mawait\u001B[39;00m \u001B[38;5;28mself\u001B[39m\u001B[38;5;241m.\u001B[39mredis\u001B[38;5;241m.\u001B[39mset(key, value, ex\u001B[38;5;241m=\u001B[39mexpire)\n",
      "File \u001B[1;32m~\\PycharmProjects\\tmapi\\venv\\lib\\site-packages\\redis\\asyncio\\client.py:487\u001B[0m, in \u001B[0;36mRedis.execute_command\u001B[1;34m(self, *args, **options)\u001B[0m\n\u001B[0;32m    484\u001B[0m conn \u001B[38;5;241m=\u001B[39m \u001B[38;5;28mself\u001B[39m\u001B[38;5;241m.\u001B[39mconnection \u001B[38;5;129;01mor\u001B[39;00m \u001B[38;5;28;01mawait\u001B[39;00m pool\u001B[38;5;241m.\u001B[39mget_connection(command_name, \u001B[38;5;241m*\u001B[39m\u001B[38;5;241m*\u001B[39moptions)\n\u001B[0;32m    486\u001B[0m \u001B[38;5;28;01mtry\u001B[39;00m:\n\u001B[1;32m--> 487\u001B[0m     \u001B[38;5;28;01mreturn\u001B[39;00m \u001B[38;5;28;01mawait\u001B[39;00m conn\u001B[38;5;241m.\u001B[39mretry\u001B[38;5;241m.\u001B[39mcall_with_retry(\n\u001B[0;32m    488\u001B[0m         \u001B[38;5;28;01mlambda\u001B[39;00m: \u001B[38;5;28mself\u001B[39m\u001B[38;5;241m.\u001B[39m_send_command_parse_response(\n\u001B[0;32m    489\u001B[0m             conn, command_name, \u001B[38;5;241m*\u001B[39margs, \u001B[38;5;241m*\u001B[39m\u001B[38;5;241m*\u001B[39moptions\n\u001B[0;32m    490\u001B[0m         ),\n\u001B[0;32m    491\u001B[0m         \u001B[38;5;28;01mlambda\u001B[39;00m error: \u001B[38;5;28mself\u001B[39m\u001B[38;5;241m.\u001B[39m_disconnect_raise(conn, error),\n\u001B[0;32m    492\u001B[0m     )\n\u001B[0;32m    493\u001B[0m \u001B[38;5;28;01mfinally\u001B[39;00m:\n\u001B[0;32m    494\u001B[0m     \u001B[38;5;28;01mif\u001B[39;00m \u001B[38;5;129;01mnot\u001B[39;00m \u001B[38;5;28mself\u001B[39m\u001B[38;5;241m.\u001B[39mconnection:\n",
      "File \u001B[1;32m~\\PycharmProjects\\tmapi\\venv\\lib\\site-packages\\redis\\asyncio\\retry.py:59\u001B[0m, in \u001B[0;36mRetry.call_with_retry\u001B[1;34m(self, do, fail)\u001B[0m\n\u001B[0;32m     57\u001B[0m \u001B[38;5;28;01mwhile\u001B[39;00m \u001B[38;5;28;01mTrue\u001B[39;00m:\n\u001B[0;32m     58\u001B[0m     \u001B[38;5;28;01mtry\u001B[39;00m:\n\u001B[1;32m---> 59\u001B[0m         \u001B[38;5;28;01mreturn\u001B[39;00m \u001B[38;5;28;01mawait\u001B[39;00m do()\n\u001B[0;32m     60\u001B[0m     \u001B[38;5;28;01mexcept\u001B[39;00m \u001B[38;5;28mself\u001B[39m\u001B[38;5;241m.\u001B[39m_supported_errors \u001B[38;5;28;01mas\u001B[39;00m error:\n\u001B[0;32m     61\u001B[0m         failures \u001B[38;5;241m+\u001B[39m\u001B[38;5;241m=\u001B[39m \u001B[38;5;241m1\u001B[39m\n",
      "File \u001B[1;32m~\\PycharmProjects\\tmapi\\venv\\lib\\site-packages\\redis\\asyncio\\client.py:463\u001B[0m, in \u001B[0;36mRedis._send_command_parse_response\u001B[1;34m(self, conn, command_name, *args, **options)\u001B[0m\n\u001B[0;32m    459\u001B[0m \u001B[38;5;124;03m\"\"\"\u001B[39;00m\n\u001B[0;32m    460\u001B[0m \u001B[38;5;124;03mSend a command and parse the response\u001B[39;00m\n\u001B[0;32m    461\u001B[0m \u001B[38;5;124;03m\"\"\"\u001B[39;00m\n\u001B[0;32m    462\u001B[0m \u001B[38;5;28;01mawait\u001B[39;00m conn\u001B[38;5;241m.\u001B[39msend_command(\u001B[38;5;241m*\u001B[39margs)\n\u001B[1;32m--> 463\u001B[0m \u001B[38;5;28;01mreturn\u001B[39;00m \u001B[38;5;28;01mawait\u001B[39;00m \u001B[38;5;28mself\u001B[39m\u001B[38;5;241m.\u001B[39mparse_response(conn, command_name, \u001B[38;5;241m*\u001B[39m\u001B[38;5;241m*\u001B[39moptions)\n",
      "File \u001B[1;32m~\\PycharmProjects\\tmapi\\venv\\lib\\site-packages\\redis\\asyncio\\client.py:505\u001B[0m, in \u001B[0;36mRedis.parse_response\u001B[1;34m(self, connection, command_name, **options)\u001B[0m\n\u001B[0;32m    503\u001B[0m         response \u001B[38;5;241m=\u001B[39m \u001B[38;5;28;01mawait\u001B[39;00m connection\u001B[38;5;241m.\u001B[39mread_response(disable_decoding\u001B[38;5;241m=\u001B[39m\u001B[38;5;28;01mTrue\u001B[39;00m)\n\u001B[0;32m    504\u001B[0m     \u001B[38;5;28;01melse\u001B[39;00m:\n\u001B[1;32m--> 505\u001B[0m         response \u001B[38;5;241m=\u001B[39m \u001B[38;5;28;01mawait\u001B[39;00m connection\u001B[38;5;241m.\u001B[39mread_response()\n\u001B[0;32m    506\u001B[0m \u001B[38;5;28;01mexcept\u001B[39;00m ResponseError:\n\u001B[0;32m    507\u001B[0m     \u001B[38;5;28;01mif\u001B[39;00m EMPTY_RESPONSE \u001B[38;5;129;01min\u001B[39;00m options:\n",
      "File \u001B[1;32m~\\PycharmProjects\\tmapi\\venv\\lib\\site-packages\\redis\\asyncio\\connection.py:954\u001B[0m, in \u001B[0;36mConnection.read_response\u001B[1;34m(self, disable_decoding)\u001B[0m\n\u001B[0;32m    951\u001B[0m     \u001B[38;5;28mself\u001B[39m\u001B[38;5;241m.\u001B[39mnext_health_check \u001B[38;5;241m=\u001B[39m func()\u001B[38;5;241m.\u001B[39mtime() \u001B[38;5;241m+\u001B[39m \u001B[38;5;28mself\u001B[39m\u001B[38;5;241m.\u001B[39mhealth_check_interval\n\u001B[0;32m    953\u001B[0m \u001B[38;5;28;01mif\u001B[39;00m \u001B[38;5;28misinstance\u001B[39m(response, ResponseError):\n\u001B[1;32m--> 954\u001B[0m     \u001B[38;5;28;01mraise\u001B[39;00m response \u001B[38;5;28;01mfrom\u001B[39;00m \u001B[38;5;28mNone\u001B[39m\n\u001B[0;32m    955\u001B[0m \u001B[38;5;28;01mreturn\u001B[39;00m response\n",
      "\u001B[1;31mResponseError\u001B[0m: invalid expire time in 'set' command"
     ]
    }
   ],
   "source": [
    "await add(2,4)"
   ],
   "metadata": {
    "collapsed": false,
    "pycharm": {
     "name": "#%%\n"
    }
   }
  },
  {
   "cell_type": "code",
   "execution_count": 3,
   "outputs": [
    {
     "ename": "TypeError",
     "evalue": "'function' object is not iterable",
     "output_type": "error",
     "traceback": [
      "\u001B[1;31m---------------------------------------------------------------------------\u001B[0m",
      "\u001B[1;31mTypeError\u001B[0m                                 Traceback (most recent call last)",
      "Input \u001B[1;32mIn [3]\u001B[0m, in \u001B[0;36m<cell line: 2>\u001B[1;34m()\u001B[0m\n\u001B[0;32m      1\u001B[0m \u001B[38;5;28;01mfrom\u001B[39;00m \u001B[38;5;21;01minspect\u001B[39;00m \u001B[38;5;28;01mimport\u001B[39;00m Signature\n\u001B[1;32m----> 2\u001B[0m \u001B[43mSignature\u001B[49m\u001B[43m(\u001B[49m\u001B[43madd\u001B[49m\u001B[43m)\u001B[49m\n",
      "File \u001B[1;32mC:\\Python310\\lib\\inspect.py:2927\u001B[0m, in \u001B[0;36mSignature.__init__\u001B[1;34m(self, parameters, return_annotation, __validate_parameters__)\u001B[0m\n\u001B[0;32m   2924\u001B[0m top_kind \u001B[38;5;241m=\u001B[39m _POSITIONAL_ONLY\n\u001B[0;32m   2925\u001B[0m kind_defaults \u001B[38;5;241m=\u001B[39m \u001B[38;5;28;01mFalse\u001B[39;00m\n\u001B[1;32m-> 2927\u001B[0m \u001B[38;5;28;01mfor\u001B[39;00m param \u001B[38;5;129;01min\u001B[39;00m parameters:\n\u001B[0;32m   2928\u001B[0m     kind \u001B[38;5;241m=\u001B[39m param\u001B[38;5;241m.\u001B[39mkind\n\u001B[0;32m   2929\u001B[0m     name \u001B[38;5;241m=\u001B[39m param\u001B[38;5;241m.\u001B[39mname\n",
      "\u001B[1;31mTypeError\u001B[0m: 'function' object is not iterable"
     ]
    }
   ],
   "source": [
    "from inspect import Signature\n",
    "Signature(add)"
   ],
   "metadata": {
    "collapsed": false,
    "pycharm": {
     "name": "#%%\n"
    }
   }
  },
  {
   "cell_type": "code",
   "execution_count": null,
   "outputs": [],
   "source": [],
   "metadata": {
    "collapsed": false,
    "pycharm": {
     "name": "#%%\n"
    }
   }
  }
 ],
 "metadata": {
  "kernelspec": {
   "display_name": "Python 3 (ipykernel)",
   "language": "python",
   "name": "python3"
  },
  "language_info": {
   "codemirror_mode": {
    "name": "ipython",
    "version": 3
   },
   "file_extension": ".py",
   "mimetype": "text/x-python",
   "name": "python",
   "nbconvert_exporter": "python",
   "pygments_lexer": "ipython3",
   "version": "3.10.5"
  }
 },
 "nbformat": 4,
 "nbformat_minor": 5
}