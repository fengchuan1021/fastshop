{
 "cells": [
  {
   "cell_type": "code",
   "execution_count": 1,
   "outputs": [
    {
     "data": {
      "text/plain": "True"
     },
     "execution_count": 1,
     "metadata": {},
     "output_type": "execute_result"
    }
   ],
   "source": [
    "from component.cache import cache\n",
    "from typing import Dict\n",
    "await cache.set('userscore:100',5000)"
   ],
   "metadata": {
    "collapsed": false,
    "pycharm": {
     "name": "#%%\n"
    }
   }
  },
  {
   "cell_type": "code",
   "execution_count": 2,
   "outputs": [
    {
     "data": {
      "text/plain": "b'5000'"
     },
     "execution_count": 2,
     "metadata": {},
     "output_type": "execute_result"
    }
   ],
   "source": [
    "await cache.get('userscore:100')"
   ],
   "metadata": {
    "collapsed": false,
    "pycharm": {
     "name": "#%%\n"
    }
   }
  },
  {
   "cell_type": "code",
   "execution_count": 3,
   "outputs": [],
   "source": [
    "@cache\n",
    "async def getporductByid(id:int)->Dict:\n",
    "    print('in function execute!!')\n",
    "    return {\"id\":id,\"name\":\"iphone\",'description':\"rediphone\"}"
   ],
   "metadata": {
    "collapsed": false,
    "pycharm": {
     "name": "#%%\n"
    }
   }
  },
  {
   "cell_type": "code",
   "execution_count": 4,
   "outputs": [
    {
     "name": "stdout",
     "output_type": "stream",
     "text": [
      "in function execute!!\n"
     ]
    },
    {
     "data": {
      "text/plain": "{'id': 1000, 'name': 'iphone', 'description': 'rediphone'}"
     },
     "execution_count": 4,
     "metadata": {},
     "output_type": "execute_result"
    }
   ],
   "source": [
    "await getporductByid(1000)"
   ],
   "metadata": {
    "collapsed": false,
    "pycharm": {
     "name": "#%%\n"
    }
   }
  },
  {
   "cell_type": "code",
   "execution_count": 5,
   "outputs": [
    {
     "ename": "TypeError",
     "evalue": "issubclass() arg 1 must be a class",
     "output_type": "error",
     "traceback": [
      "\u001B[1;31m---------------------------------------------------------------------------\u001B[0m",
      "\u001B[1;31mTypeError\u001B[0m                                 Traceback (most recent call last)",
      "Input \u001B[1;32mIn [5]\u001B[0m, in \u001B[0;36m<cell line: 1>\u001B[1;34m()\u001B[0m\n\u001B[1;32m----> 1\u001B[0m \u001B[38;5;28;01mawait\u001B[39;00m getporductByid(\u001B[38;5;241m1000\u001B[39m)\n",
      "File \u001B[1;32mG:\\Users\\fengchuan\\PycharmProjects\\aztmapi\\component\\cache\\__init__.py:148\u001B[0m, in \u001B[0;36m_Cache.__call__.<locals>.decorator.<locals>.inner\u001B[1;34m(*args, **kwargs)\u001B[0m\n\u001B[0;32m    145\u001B[0m     tmpmodel\u001B[38;5;241m.\u001B[39m_sa_instance_state\u001B[38;5;241m.\u001B[39mkey \u001B[38;5;241m=\u001B[39m (classinstance\u001B[38;5;241m.\u001B[39mmodel, (returndic[\u001B[38;5;124m'\u001B[39m\u001B[38;5;124mid\u001B[39m\u001B[38;5;124m'\u001B[39m],), \u001B[38;5;28;01mNone\u001B[39;00m)\n\u001B[0;32m    146\u001B[0m     \u001B[38;5;28;01mreturn\u001B[39;00m tmpmodel\n\u001B[1;32m--> 148\u001B[0m \u001B[38;5;28;01melif\u001B[39;00m \u001B[38;5;28;43missubclass\u001B[39;49m\u001B[43m(\u001B[49m\u001B[43mtmpClass\u001B[49m\u001B[43m,\u001B[49m\u001B[43mModels\u001B[49m\u001B[38;5;241;43m.\u001B[39;49m\u001B[43mBase\u001B[49m\u001B[43m)\u001B[49m:\n\u001B[0;32m    149\u001B[0m     tmpmodel \u001B[38;5;241m=\u001B[39m tmpClass(\u001B[38;5;241m*\u001B[39m\u001B[38;5;241m*\u001B[39mreturndic)\n\u001B[0;32m    150\u001B[0m     tmpmodel\u001B[38;5;241m.\u001B[39m_sa_instance_state\u001B[38;5;241m.\u001B[39mcommitted_state \u001B[38;5;241m=\u001B[39m {}\n",
      "\u001B[1;31mTypeError\u001B[0m: issubclass() arg 1 must be a class"
     ]
    }
   ],
   "source": [
    "await getporductByid(1000)"
   ],
   "metadata": {
    "collapsed": false,
    "pycharm": {
     "name": "#%%\n"
    }
   }
  },
  {
   "cell_type": "code",
   "execution_count": null,
   "outputs": [],
   "source": [],
   "metadata": {
    "collapsed": false,
    "pycharm": {
     "name": "#%%\n"
    }
   }
  }
 ],
 "metadata": {
  "kernelspec": {
   "display_name": "Python 3",
   "language": "python",
   "name": "python3"
  },
  "language_info": {
   "codemirror_mode": {
    "name": "ipython",
    "version": 2
   },
   "file_extension": ".py",
   "mimetype": "text/x-python",
   "name": "python",
   "nbconvert_exporter": "python",
   "pygments_lexer": "ipython2",
   "version": "2.7.6"
  }
 },
 "nbformat": 4,
 "nbformat_minor": 0
}